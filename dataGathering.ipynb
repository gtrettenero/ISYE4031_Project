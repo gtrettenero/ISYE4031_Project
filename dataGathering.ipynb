{
 "cells": [
  {
   "cell_type": "code",
   "execution_count": 4,
   "metadata": {},
   "outputs": [],
   "source": [
    "import pandas as pd\n",
    "from matplotlib import pyplot as plt\n",
    "import numpy as np\n",
    "import spotipy\n",
    "from spotipy.oauth2 import SpotifyClientCredentials"
   ]
  },
  {
   "cell_type": "code",
   "execution_count": 5,
   "metadata": {},
   "outputs": [],
   "source": [
    "# Establish connection to Spotify\n",
    "client_id = '3a73b2db715a4f2696964c5bb3024395'\n",
    "client_secret = '05624d43a8714d6eac168090093d7d09'\n",
    "\n",
    "client_credentials_manager = SpotifyClientCredentials(client_id=client_id, client_secret=client_secret)\n",
    "sp = spotipy.Spotify(client_credentials_manager=client_credentials_manager, requests_timeout=10, retries=10)"
   ]
  },
  {
   "cell_type": "code",
   "execution_count": 6,
   "metadata": {},
   "outputs": [
    {
     "data": {
      "text/plain": [
       "{'external_urls': {'spotify': 'https://open.spotify.com/artist/5YGY8feqx7naU7z4HrwZM6'},\n",
       " 'followers': {'href': None, 'total': 19009416},\n",
       " 'genres': ['dance pop', 'pop', 'post-teen pop'],\n",
       " 'href': 'https://api.spotify.com/v1/artists/5YGY8feqx7naU7z4HrwZM6',\n",
       " 'id': '5YGY8feqx7naU7z4HrwZM6',\n",
       " 'images': [{'height': 640,\n",
       "   'url': 'https://i.scdn.co/image/ab6761610000e5eb02651b19050d8bf64b18d40a',\n",
       "   'width': 640},\n",
       "  {'height': 320,\n",
       "   'url': 'https://i.scdn.co/image/ab6761610000517402651b19050d8bf64b18d40a',\n",
       "   'width': 320},\n",
       "  {'height': 160,\n",
       "   'url': 'https://i.scdn.co/image/ab6761610000f17802651b19050d8bf64b18d40a',\n",
       "   'width': 160}],\n",
       " 'name': 'Miley Cyrus',\n",
       " 'popularity': 80,\n",
       " 'type': 'artist',\n",
       " 'uri': 'spotify:artist:5YGY8feqx7naU7z4HrwZM6'}"
      ]
     },
     "execution_count": 6,
     "metadata": {},
     "output_type": "execute_result"
    }
   ],
   "source": [
    "# Check if API is working\n",
    "sp.artist(\"5YGY8feqx7naU7z4HrwZM6\")"
   ]
  },
  {
   "cell_type": "code",
   "execution_count": 9,
   "metadata": {},
   "outputs": [],
   "source": [
    "track_items = []\n",
    "# Get tracks information for the last 11 years\n",
    "for year in range(2010, 2022):\n",
    "    for i in range(0, 1000, 50):\n",
    "        # Save results of each search as a variable. Limit search to 50 results, use offset to skip previous result of iteration  \n",
    "        tracks =  sp.search(q=f'year:{year}', type='track', limit=50, offset=i)['tracks']['items']\n",
    "        track_items += tracks"
   ]
  },
  {
   "cell_type": "code",
   "execution_count": 12,
   "metadata": {},
   "outputs": [],
   "source": [
    "# Isolate Artist_ID and Popularity from other attributes\n",
    "full_track = pd.DataFrame(track_items)[['id','popularity']]\n",
    "id_pop = pd.DataFrame({'Track_ID'  : full_track['id'],\n",
    "                       'Popularity' : full_track['popularity']})\n",
    "id_pop.to_csv(\"ID_Popularity\")"
   ]
  },
  {
   "cell_type": "code",
   "execution_count": 14,
   "metadata": {},
   "outputs": [
    {
     "name": "stdout",
     "output_type": "stream",
     "text": [
      "0\n",
      "1000\n",
      "2000\n",
      "3000\n",
      "4000\n",
      "5000\n",
      "6000\n",
      "7000\n",
      "8000\n",
      "9000\n",
      "10000\n",
      "11000\n"
     ]
    }
   ],
   "source": [
    "acousticness = []\n",
    "danceability = []\n",
    "duration_ms = []\n",
    "energy = []\n",
    "instrumentalness = []\n",
    "key = []\n",
    "liveness = []\n",
    "loudness = []\n",
    "mode = []\n",
    "speechiness = []\n",
    "tempo = []\n",
    "time_signature = []\n",
    "valence = []\n",
    "i = 0\n",
    "\n",
    "for track_id in id_pop['Track_ID']:\n",
    "    try:\n",
    "        audio_features = sp.audio_features(track_id)\n",
    "        \n",
    "        acousticness.append(audio_features[0][\"acousticness\"])\n",
    "        danceability.append(audio_features[0][\"danceability\"])\n",
    "        duration_ms.append(audio_features[0][\"duration_ms\"])\n",
    "        energy.append(audio_features[0][\"energy\"])\n",
    "        instrumentalness.append(audio_features[0][\"instrumentalness\"])\n",
    "        key.append(audio_features[0][\"key\"])\n",
    "        liveness.append(audio_features[0][\"liveness\"])\n",
    "        mode.append(audio_features[0][\"mode\"])\n",
    "        loudness.append(audio_features[0][\"loudness\"])\n",
    "        tempo.append(audio_features[0][\"tempo\"])\n",
    "        time_signature.append(audio_features[0][\"time_signature\"])\n",
    "        speechiness.append(audio_features[0][\"speechiness\"])\n",
    "        valence.append(audio_features[0][\"valence\"])\n",
    "        \n",
    "    # Error results if there are no features available. Use try/except to set value to 0 when there is an error\n",
    "    except TypeError:\n",
    "        acousticness.append(np.nan)\n",
    "        danceability.append(np.nan)\n",
    "        duration_ms.append(np.nan)\n",
    "        energy.append(np.nan)\n",
    "        instrumentalness.append(np.nan)\n",
    "        key.append(np.nan)\n",
    "        liveness.append(np.nan)\n",
    "        mode.append(np.nan)\n",
    "        loudness.append(np.nan)\n",
    "        tempo.append(np.nan)\n",
    "        time_signature.append(np.nan)\n",
    "        speechiness.append(np.nan)\n",
    "        valence.append(np.nan)\n",
    "\n",
    "song_atts = pd.DataFrame({  \"Acousticness\": acousticness, \n",
    "                            \"Danceability\":danceability, \n",
    "                            \"Duration_ms\": duration_ms, \n",
    "                            \"Energy\":energy, \n",
    "                            \"Instrumentalness\": instrumentalness, \n",
    "                            \"Key\": key, \n",
    "                            \"Liveness\": liveness,\n",
    "                            \"Mode\": mode,\n",
    "                            \"Loudness\":loudness,\n",
    "                            \"Tempo\": tempo,\n",
    "                            \"Time_signature\": time_signature,\n",
    "                            \"Speechiness\": speechiness,\n",
    "                            \"Valence\":valence })\n",
    "song_atts.to_csv(\"songAttributes\")"
   ]
  },
  {
   "cell_type": "code",
   "execution_count": 21,
   "metadata": {},
   "outputs": [],
   "source": [
    "finalData = pd.concat([id_pop, song_atts], axis=1 )\n",
    "finalData.dropna()\n",
    "finalData.to_csv(\"finalData\")"
   ]
  }
 ],
 "metadata": {
  "kernelspec": {
   "display_name": "Python 3.8.8 ('base')",
   "language": "python",
   "name": "python3"
  },
  "language_info": {
   "codemirror_mode": {
    "name": "ipython",
    "version": 3
   },
   "file_extension": ".py",
   "mimetype": "text/x-python",
   "name": "python",
   "nbconvert_exporter": "python",
   "pygments_lexer": "ipython3",
   "version": "3.8.8"
  },
  "orig_nbformat": 4,
  "vscode": {
   "interpreter": {
    "hash": "ca42fec0569acb581a7c75c7d60dd4087caf7831f0bf49e483949cf7323f15d3"
   }
  }
 },
 "nbformat": 4,
 "nbformat_minor": 2
}
